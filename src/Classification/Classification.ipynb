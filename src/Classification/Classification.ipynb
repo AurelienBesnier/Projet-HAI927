{
 "cells": [
  {
   "cell_type": "markdown",
   "id": "b849f1a6",
   "metadata": {},
   "source": [
    "# Classification"
   ]
  },
  {
   "cell_type": "markdown",
   "id": "2005f3e3",
   "metadata": {},
   "source": [
    "### Imports"
   ]
  },
  {
   "cell_type": "code",
   "execution_count": null,
   "id": "1c8bf893",
   "metadata": {},
   "outputs": [],
   "source": [
    "import os\n",
    "#Disable GPU\n",
    "os.environ['CUDA_VISIBLE_DEVICES'] = ''\n",
    "\n",
    "import matplotlib.pyplot as plt\n",
    "import numpy as np\n",
    "import random\n",
    "import tensorflow as tf\n",
    "import sys\n",
    "import glob\n",
    "from pathlib import Path\n",
    "from tensorflow.keras import applications\n",
    "from tensorflow.keras import layers\n",
    "from tensorflow.keras import losses\n",
    "from tensorflow.keras import optimizers\n",
    "from tensorflow.keras import metrics\n",
    "from tensorflow.keras import Model\n",
    "from tensorflow.keras.applications import inception_v3\n",
    "\n",
    "\n",
    "target_shape = (250, 250)"
   ]
  },
  {
   "cell_type": "markdown",
   "id": "d23af9aa",
   "metadata": {},
   "source": [
    "#### Importing dataset"
   ]
  },
  {
   "cell_type": "code",
   "execution_count": null,
   "id": "101e7a2b",
   "metadata": {},
   "outputs": [],
   "source": [
    "def preprocess_image(filename):\n",
    "    \"\"\"\n",
    "    Load the specified file as a JPEG image, preprocess it and\n",
    "    resize it to the target shape.\n",
    "    \"\"\"\n",
    "\n",
    "    image_string = tf.io.read_file(filename)\n",
    "    image = tf.image.decode_jpeg(image_string, channels=3)\n",
    "    image = tf.image.resize(image, target_shape)\n",
    "    return image\n",
    "\n",
    "\n",
    "def preprocess_triplets(anchor, positive, negative):\n",
    "    \"\"\"\n",
    "    Given the filenames corresponding to the three images, load and\n",
    "    preprocess them.\n",
    "    \"\"\"\n",
    "\n",
    "    return (\n",
    "        preprocess_image(anchor),\n",
    "        preprocess_image(positive),\n",
    "        preprocess_image(negative),\n",
    "    )\n"
   ]
  },
  {
   "cell_type": "code",
   "execution_count": null,
   "id": "25758a43",
   "metadata": {},
   "outputs": [],
   "source": [
    "path_root = \"${CMAKE_RUNTIME_OUTPUT_DIRECTORY}\"\n",
    "path_root = Path(\"../../build/bin\" if path_root[0] == '$' else path_root).resolve()\n",
    "print(path_root)"
   ]
  },
  {
   "cell_type": "code",
   "execution_count": null,
   "id": "0d0e8309",
   "metadata": {},
   "outputs": [],
   "source": [
    "def loadDataset(folder):\n",
    "    anchor_images = []\n",
    "    positive_images = []\n",
    "    negative_images = []\n",
    "    \n",
    "    filelist = sorted(filter(os.path.isfile, glob.glob(str(folder / '*'))))\n",
    "    for i in range(0, len(filelist), 3):\n",
    "        anchor_images.append(filelist[i])\n",
    "        positive_images.append(filelist[i+1])\n",
    "        negative_images.append(filelist[i+2])\n",
    "\n",
    "    anchor_dataset = tf.data.Dataset.from_tensor_slices(anchor_images)\n",
    "    positive_dataset = tf.data.Dataset.from_tensor_slices(positive_images)\n",
    "    negative_dataset = tf.data.Dataset.from_tensor_slices(negative_images)\n",
    "\n",
    "    dataset = tf.data.Dataset.zip((anchor_dataset, positive_dataset, negative_dataset))\n",
    "    dataset = dataset.shuffle(buffer_size=1024)\n",
    "    dataset = dataset.map(preprocess_triplets)\n",
    "    return dataset\n",
    "\n",
    "# Let's now split our dataset in train and validation.\n",
    "train_dataset = loadDataset(path_root / \"triplets_large\")\n",
    "val_dataset = loadDataset(path_root / \"triplets_large_test\")\n",
    "\n",
    "train_dataset = train_dataset.batch(32, drop_remainder=False)\n",
    "train_dataset = train_dataset.prefetch(16)\n",
    "\n",
    "val_dataset = val_dataset.batch(32, drop_remainder=False)\n",
    "val_dataset = val_dataset.prefetch(16)"
   ]
  },
  {
   "cell_type": "code",
   "execution_count": null,
   "id": "2c2aa049",
   "metadata": {
    "scrolled": false
   },
   "outputs": [],
   "source": [
    "def visualize(anchor, positive, negative):\n",
    "    \"\"\"Visualize a few triplets from the supplied batches.\"\"\"\n",
    "\n",
    "    def show(ax, image):\n",
    "        ax.imshow(image)\n",
    "        ax.get_xaxis().set_visible(False)\n",
    "        ax.get_yaxis().set_visible(False)\n",
    "\n",
    "    fig = plt.figure(figsize=(9, 9))\n",
    "\n",
    "    axs = fig.subplots(3, 3)\n",
    "    for i in range(3):\n",
    "        show(axs[i, 0], anchor[i]/255)\n",
    "        show(axs[i, 1], positive[i]/255)\n",
    "        show(axs[i, 2], negative[i]/255)\n",
    "\n",
    "\n",
    "visualize(*list(train_dataset.take(1).as_numpy_iterator())[0])"
   ]
  },
  {
   "cell_type": "markdown",
   "id": "0392ffd8",
   "metadata": {},
   "source": [
    "## Setting up the model"
   ]
  },
  {
   "cell_type": "markdown",
   "id": "07002e22",
   "metadata": {},
   "source": [
    "### Generator model"
   ]
  },
  {
   "cell_type": "code",
   "execution_count": null,
   "id": "930f36c6",
   "metadata": {},
   "outputs": [],
   "source": [
    "base_cnn = inception_v3.InceptionV3(\n",
    "    include_top=False,\n",
    "    weights=\"imagenet\",\n",
    "    input_shape=target_shape + (3,)\n",
    ")\n",
    "\n",
    "flatten = layers.Flatten()(base_cnn.output)\n",
    "\n",
    "dense1 = layers.Dense(256, activation=\"relu\")(flatten)\n",
    "dense1 = layers.BatchNormalization()(dense1)\n",
    "dropout1 = layers.Dropout(0.3)(dense1)\n",
    "\n",
    "dense2 = layers.Dense(128, activation=\"relu\")(dropout1)\n",
    "dense2 = layers.BatchNormalization()(dense2)\n",
    "dropout2 = layers.Dropout(0.3)(dense2)\n",
    "\n",
    "output = layers.Dense(64)(dropout2)\n",
    "\n",
    "embedding = Model(base_cnn.input, output, name=\"Embedding\")\n",
    "\n",
    "for layer in base_cnn.layers:\n",
    "    layer.trainable = False"
   ]
  },
  {
   "cell_type": "markdown",
   "id": "f036524b",
   "metadata": {},
   "source": [
    "### Siamese network"
   ]
  },
  {
   "cell_type": "code",
   "execution_count": null,
   "id": "1ec94e72",
   "metadata": {},
   "outputs": [],
   "source": [
    "class DistanceLayer(layers.Layer):\n",
    "    \"\"\"\n",
    "    This layer is responsible for computing the distance between the anchor\n",
    "    embedding and the positive embedding, and the anchor embedding and the\n",
    "    negative embedding.\n",
    "    \"\"\"\n",
    "\n",
    "    def __init__(self, **kwargs):\n",
    "        super().__init__(**kwargs)\n",
    "\n",
    "    def call(self, anchor, positive, negative):\n",
    "        ap_distance = tf.reduce_sum(tf.square(anchor - positive), -1)\n",
    "        an_distance = tf.reduce_sum(tf.square(anchor - negative), -1)\n",
    "        return (ap_distance, an_distance)\n",
    "\n",
    "\n",
    "anchor_input = layers.Input(name=\"anchor\", shape=target_shape + (3,))\n",
    "positive_input = layers.Input(name=\"positive\", shape=target_shape + (3,))\n",
    "negative_input = layers.Input(name=\"negative\", shape=target_shape + (3,))\n",
    "\n",
    "distances = DistanceLayer()(\n",
    "    embedding(inception_v3.preprocess_input(anchor_input)),\n",
    "    embedding(inception_v3.preprocess_input(positive_input)),\n",
    "    embedding(inception_v3.preprocess_input(negative_input)),\n",
    ")\n",
    "\n",
    "siamese_network = Model(\n",
    "    inputs=[anchor_input, positive_input, negative_input], outputs=distances\n",
    ")"
   ]
  },
  {
   "cell_type": "code",
   "execution_count": null,
   "id": "b683b45a",
   "metadata": {},
   "outputs": [],
   "source": [
    "class SiameseModel(Model):\n",
    "    \"\"\"The Siamese Network model with a custom training and testing loops.\n",
    "\n",
    "    Computes the triplet loss using the three embeddings produced by the\n",
    "    Siamese Network.\n",
    "\n",
    "    The triplet loss is defined as:\n",
    "       L(A, P, N) = max(‖f(A) - f(P)‖² - ‖f(A) - f(N)‖² + margin, 0)\n",
    "    \"\"\"\n",
    "\n",
    "    def __init__(self, siamese_network, margin=0.5):\n",
    "        super(SiameseModel, self).__init__()\n",
    "        self.siamese_network = siamese_network\n",
    "        self.margin = margin\n",
    "        self.loss_tracker = metrics.Mean(name=\"loss\")\n",
    "\n",
    "    def call(self, inputs):\n",
    "        return self.siamese_network(inputs)\n",
    "\n",
    "    def train_step(self, data):\n",
    "        # GradientTape is a context manager that records every operation that\n",
    "        # you do inside. We are using it here to compute the loss so we can get\n",
    "        # the gradients and apply them using the optimizer specified in\n",
    "        # `compile()`.\n",
    "        with tf.GradientTape() as tape:\n",
    "            loss = self._compute_loss(data)\n",
    "\n",
    "        # Storing the gradients of the loss function with respect to the\n",
    "        # weights/parameters.\n",
    "        gradients = tape.gradient(loss, self.siamese_network.trainable_weights)\n",
    "\n",
    "        # Applying the gradients on the model using the specified optimizer\n",
    "        self.optimizer.apply_gradients(\n",
    "            zip(gradients, self.siamese_network.trainable_weights)\n",
    "        )\n",
    "\n",
    "        # Let's update and return the training loss metric.\n",
    "        self.loss_tracker.update_state(loss)\n",
    "        return {\"loss\": self.loss_tracker.result()}\n",
    "\n",
    "    def test_step(self, data):\n",
    "        loss = self._compute_loss(data)\n",
    "\n",
    "        # Let's update and return the loss metric.\n",
    "        self.loss_tracker.update_state(loss)\n",
    "        return {\"loss\": self.loss_tracker.result()}\n",
    "\n",
    "    def _compute_loss(self, data):\n",
    "        # The output of the network is a tuple containing the distances\n",
    "        # between the anchor and the positive example, and the anchor and\n",
    "        # the negative example.\n",
    "        ap_distance, an_distance = self.siamese_network(data)\n",
    "\n",
    "        # Computing the Triplet Loss by subtracting both distances and\n",
    "        # making sure we don't get a negative value.\n",
    "        loss = ap_distance - an_distance\n",
    "        loss = tf.maximum(loss + self.margin, 0.0)\n",
    "        return loss\n",
    "\n",
    "    @property\n",
    "    def metrics(self):\n",
    "        # We need to list our metrics here so the `reset_states()` can be\n",
    "        # called automatically.\n",
    "        return [self.loss_tracker]"
   ]
  },
  {
   "cell_type": "code",
   "execution_count": null,
   "id": "2d0859c0",
   "metadata": {
    "scrolled": false
   },
   "outputs": [],
   "source": [
    "siamese_model = SiameseModel(siamese_network)\n",
    "siamese_model.compile(optimizer=optimizers.Adam(learning_rate=0.000001), weighted_metrics=[])\n",
    "siamese_model.fit(train_dataset, epochs=10, validation_data=val_dataset)"
   ]
  },
  {
   "cell_type": "code",
   "execution_count": null,
   "id": "882f951e",
   "metadata": {},
   "outputs": [],
   "source": [
    "siamese_model.metrics_names\n",
    "plt.plot(siamese_model.history.history['loss'])\n",
    "plt.plot(siamese_model.history.history['val_loss'])\n",
    "plt.title('model_loss')\n",
    "plt.xlabel('epoch')\n",
    "plt.ylabel('loss')\n",
    "plt.ylim(0, 1)\n",
    "plt.legend(['loss', 'val_loss'], loc='upper right')\n",
    "\n",
    "plt.show()"
   ]
  },
  {
   "cell_type": "code",
   "execution_count": null,
   "id": "484ad47c",
   "metadata": {},
   "outputs": [],
   "source": [
    "sample = next(iter(val_dataset))\n",
    "visualize(*sample)\n",
    "\n",
    "anchor, positive, negative = sample\n",
    "anchor_embedding, positive_embedding, negative_embedding = (\n",
    "    embedding(inception_v3.preprocess_input(anchor)),\n",
    "    embedding(inception_v3.preprocess_input(positive)),\n",
    "    embedding(inception_v3.preprocess_input(negative)),\n",
    ")"
   ]
  },
  {
   "cell_type": "code",
   "execution_count": null,
   "id": "05e5bf0a",
   "metadata": {
    "scrolled": true
   },
   "outputs": [],
   "source": [
    "cosine_similarity = metrics.CosineSimilarity()\n",
    "\n",
    "positive_similarity = cosine_similarity(anchor_embedding, positive_embedding)\n",
    "print(\"Positive similarity:\", positive_similarity.numpy())\n",
    "negative_similarity = cosine_similarity(anchor_embedding, negative_embedding)\n",
    "print(\"Negative similarity:\", negative_similarity.numpy())\n",
    "\n",
    "\n",
    "mean_pos = metrics.Mean()\n",
    "mean_neg = metrics.Mean()\n",
    "\n",
    "for anchor, positive, negative in val_dataset:\n",
    "    anchor_embedding, positive_embedding, negative_embedding = (\n",
    "        embedding(inception_v3.preprocess_input(anchor)),\n",
    "        embedding(inception_v3.preprocess_input(positive)),\n",
    "        embedding(inception_v3.preprocess_input(negative)),\n",
    "    )\n",
    "    mean_pos.update_state(tf.reduce_sum(tf.square(anchor_embedding - positive_embedding), -1))\n",
    "    mean_neg.update_state(tf.reduce_sum(tf.square(anchor_embedding - negative_embedding), -1))\n",
    "print(\"Positive distance:\", mean_pos.result().numpy())\n",
    "print(\"Negative distance:\", mean_neg.result().numpy())"
   ]
  },
  {
   "cell_type": "markdown",
   "id": "0fe3943c",
   "metadata": {},
   "source": [
    "### Saving the model"
   ]
  },
  {
   "cell_type": "code",
   "execution_count": null,
   "id": "310b545c",
   "metadata": {
    "scrolled": true
   },
   "outputs": [],
   "source": [
    "embedding.save(\"model_trained.h5\", include_optimizer=False)"
   ]
  },
  {
   "cell_type": "code",
   "execution_count": null,
   "id": "69111f21",
   "metadata": {},
   "outputs": [],
   "source": [
    "embedding = tf.keras.models.load_model(\"model_trained.h5\")"
   ]
  },
  {
   "cell_type": "code",
   "execution_count": null,
   "id": "e3d77d05",
   "metadata": {},
   "outputs": [],
   "source": []
  }
 ],
 "metadata": {
  "kernelspec": {
   "display_name": "Python 3 (ipykernel)",
   "language": "python",
   "name": "python3"
  },
  "language_info": {
   "codemirror_mode": {
    "name": "ipython",
    "version": 3
   },
   "file_extension": ".py",
   "mimetype": "text/x-python",
   "name": "python",
   "nbconvert_exporter": "python",
   "pygments_lexer": "ipython3",
   "version": "3.9.12"
  }
 },
 "nbformat": 4,
 "nbformat_minor": 5
}
